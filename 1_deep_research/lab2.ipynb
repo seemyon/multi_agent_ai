{
 "cells": [
  {
   "cell_type": "markdown",
   "metadata": {},
   "source": [
    "## Deep Research\n",
    "\n",
    "One of the classic cross-business Agentic use cases! This is huge."
   ]
  },
  {
   "cell_type": "markdown",
   "metadata": {},
   "source": [
    "<table style=\"margin: 0; text-align: left; width:100%\">\n",
    "    <tr>\n",
    "        <td style=\"width: 150px; height: 150px; vertical-align: middle;\">\n",
    "            <img src=\"../assets/business.png\" width=\"150\" height=\"150\" style=\"display: block;\" />\n",
    "        </td>\n",
    "        <td>\n",
    "            <h2 style=\"color:#00bfff;\">Commercial implications</h2>\n",
    "            <span style=\"color:#00bfff;\">A Deep Research agent is broadly applicable to any business area, and to your own day-to-day activities. You can make use of this yourself!\n",
    "            </span>\n",
    "        </td>\n",
    "    </tr>\n",
    "</table>"
   ]
  },
  {
   "cell_type": "code",
   "metadata": {
    "ExecuteTime": {
     "end_time": "2025-05-14T15:25:35.248659Z",
     "start_time": "2025-05-14T15:25:26.993075Z"
    }
   },
   "source": [
    "# Imports\n",
    "\n",
    "from agents import Agent, WebSearchTool, trace, Runner, function_tool\n",
    "from agents.model_settings import ModelSettings\n",
    "from pydantic import BaseModel\n",
    "from dotenv import load_dotenv\n",
    "import asyncio\n",
    "import os\n",
    "from IPython.display import display, Markdown\n",
    "from pprint import pprint\n",
    "import requests\n",
    "load_dotenv(override=True)\n",
    "\n",
    "# Constants\n",
    "\n",
    "pushover_user = os.getenv(\"PUSHOVER_USER\")\n",
    "pushover_token = os.getenv(\"PUSHOVER_TOKEN\")\n",
    "pushover_url = \"https://api.pushover.net/1/messages.json\""
   ],
   "outputs": [],
   "execution_count": 1
  },
  {
   "cell_type": "markdown",
   "metadata": {},
   "source": [
    "## OpenAI Hosted Tools\n",
    "\n",
    "OpenAI Agents SDK includes the following hosted tools:\n",
    "\n",
    "The `WebSearchTool` lets an agent search the web.  \n",
    "The `FileSearchTool` allows retrieving information from your OpenAI Vector Stores.  \n",
    "The `ComputerTool` allows automating computer use tasks like taking screenshots and clicking.\n",
    "\n",
    "### Important note - API charge of WebSearchTool\n",
    "\n",
    "This is costing me 2.5 cents per call for OpenAI WebSearchTool. That can add up to $2-$3 for the next 2 labs. We'll use low cost Search tools with other platforms, so feel free to skip running this if the cost is a concern.\n",
    "\n",
    "Costs are here: https://platform.openai.com/docs/pricing#web-search"
   ]
  },
  {
   "cell_type": "markdown",
   "metadata": {},
   "source": [
    "## We will be making 4 Agents:\n",
    "\n",
    "1. Search Agent - searches online given a search term using an OpenAI hosted tool\n",
    "2. Planner Agent - given a query from the user, come up with searches\n",
    "3. Report Agent - make a report on results\n",
    "4. Push Agent - send a notification to the user's phone with a summary\n",
    "\n",
    "## Our First Agent: Search Agent\n",
    "\n",
    "Given a Search term, search for it on the internet and summarize results."
   ]
  },
  {
   "cell_type": "code",
   "metadata": {
    "ExecuteTime": {
     "end_time": "2025-05-14T15:25:51.540492Z",
     "start_time": "2025-05-14T15:25:51.526934Z"
    }
   },
   "source": [
    "INSTRUCTIONS = \"You are a research assistant. Given a search term, you search the web for that term and \\\n",
    "produce a concise summary of the results. The summary must 2-3 paragraphs and less than 300 \\\n",
    "words. Capture the main points. Write succintly, no need to have complete sentences or good \\\n",
    "grammar. This will be consumed by someone synthesizing a report, so it's vital you capture the \\\n",
    "essence and ignore any fluff. Do not include any additional commentary other than the summary itself.\"\n",
    "\n",
    "search_agent = Agent(\n",
    "    name=\"Search agent\",\n",
    "    instructions=INSTRUCTIONS,\n",
    "    tools=[WebSearchTool(search_context_size=\"low\")],\n",
    "    model=\"gpt-4.1-mini\",\n",
    "    model_settings=ModelSettings(tool_choice=\"required\"),\n",
    ")"
   ],
   "outputs": [],
   "execution_count": 2
  },
  {
   "cell_type": "code",
   "metadata": {
    "ExecuteTime": {
     "end_time": "2025-05-14T15:26:05.255450Z",
     "start_time": "2025-05-14T15:25:57.997070Z"
    }
   },
   "source": [
    "message = \"What are the most popular and successful AI Agent frameworks in May 2025\"\n",
    "\n",
    "with trace(\"Search\"):\n",
    "    result = await Runner.run(search_agent, message)\n",
    "\n",
    "display(Markdown(result.final_output))"
   ],
   "outputs": [
    {
     "data": {
      "text/plain": [
       "<IPython.core.display.Markdown object>"
      ],
      "text/markdown": "As of May 2025, several AI agent frameworks have gained prominence for their capabilities in developing sophisticated AI applications:\n\n**LangChain**: A leading open-source framework for building applications powered by large language models (LLMs). It offers a modular architecture that simplifies complex workflows, including context management and multi-step tasks. LangChain integrates seamlessly with various LLMs, such as OpenAI and Hugging Face, and supports semantic search and API interactions. It's particularly suited for conversational AI, research tools, and document analysis. ([curotec.com](https://www.curotec.com/insights/top-ai-agent-frameworks/?utm_source=openai))\n\n**LangGraph**: An extension of LangChain, LangGraph focuses on multi-agent systems capable of collaboration and adaptation. It provides tools for coordinating multiple agents, visual graph-based workflows, and advanced error-handling capabilities. LangGraph is ideal for applications like storytelling, multi-step chatbots, and strategic planning tools. ([curotec.com](https://www.curotec.com/insights/top-ai-agent-frameworks/?utm_source=openai))\n\n**CrewAI**: Designed for orchestrating role-playing AI agents, CrewAI enables the creation of specialized agents that work together on complex tasks. It features a role-based agent architecture, dynamic task planning, and inter-agent communication protocols. CrewAI is well-suited for developing virtual product development teams and collaborative AI systems. ([chatbase.co](https://www.chatbase.co/blog/ai-agent-frameworks?utm_source=openai))\n\nThese frameworks are at the forefront of AI agent development, offering robust tools for creating intelligent, collaborative, and adaptable AI systems. "
     },
     "metadata": {},
     "output_type": "display_data"
    }
   ],
   "execution_count": 3
  },
  {
   "cell_type": "markdown",
   "metadata": {},
   "source": [
    "Take a look at the trace\n",
    "\n",
    "https://platform.openai.com/traces"
   ]
  },
  {
   "cell_type": "markdown",
   "metadata": {},
   "source": [
    "## Our Second Agent: Planner Agent\n",
    "\n",
    "Given a query, come up with 5 ideas for web searches that could be run.\n",
    "\n",
    "Use Structured Outputs as our way to ensure the Agent provides what we need."
   ]
  },
  {
   "cell_type": "code",
   "metadata": {
    "ExecuteTime": {
     "end_time": "2025-05-14T15:27:15.729120Z",
     "start_time": "2025-05-14T15:27:15.693874Z"
    }
   },
   "source": [
    "# See note above about cost of WebSearchTool\n",
    "\n",
    "HOW_MANY_SEARCHES = 5\n",
    "\n",
    "INSTRUCTIONS = f\"You are a helpful research assistant. Given a query, come up with a set of web searches \\\n",
    "to perform to best answer the query. Output {HOW_MANY_SEARCHES} terms to query for.\"\n",
    "\n",
    "# We use Pydantic objects to describe the Schema of the output\n",
    "\n",
    "class WebSearchItem(BaseModel):\n",
    "    reason: str\n",
    "    \"Your reasoning for why this search is important to the query.\"\n",
    "\n",
    "    query: str\n",
    "    \"The search term to use for the web search.\"\n",
    "\n",
    "\n",
    "class WebSearchPlan(BaseModel):\n",
    "    searches: list[WebSearchItem]\n",
    "    \"\"\"A list of web searches to perform to best answer the query.\"\"\"\n",
    "\n",
    "# We pass in the Pydantic object to ensure the output follows the schema\n",
    "\n",
    "planner_agent = Agent(\n",
    "    name=\"PlannerAgent\",\n",
    "    instructions=INSTRUCTIONS,\n",
    "    model=\"gpt-4.1-mini\",\n",
    "    output_type=WebSearchPlan,\n",
    ")"
   ],
   "outputs": [],
   "execution_count": 4
  },
  {
   "cell_type": "code",
   "metadata": {
    "ExecuteTime": {
     "end_time": "2025-05-14T15:27:24.739559Z",
     "start_time": "2025-05-14T15:27:20.496483Z"
    }
   },
   "source": [
    "\n",
    "message = \"What are the most popular and successful AI Agent frameworks in May 2025\"\n",
    "\n",
    "with trace(\"Search\"):\n",
    "    result = await Runner.run(planner_agent, message)\n",
    "    pprint(result.final_output)"
   ],
   "outputs": [
    {
     "name": "stdout",
     "output_type": "stream",
     "text": [
      "WebSearchPlan(searches=[WebSearchItem(reason='To find the latest popular AI agent frameworks as of May 2025', query='most popular AI agent frameworks May 2025'), WebSearchItem(reason='To identify which AI agent frameworks have been most successful recently', query='successful AI agent frameworks 2025'), WebSearchItem(reason='To obtain expert reviews and comparisons of AI agent frameworks', query='AI agent framework comparison 2025'), WebSearchItem(reason='To check recent developer and user community feedback on AI agent frameworks', query='AI agent frameworks user reviews 2025'), WebSearchItem(reason='To find technology articles and reports discussing AI agent trends in 2025', query='AI agent frameworks trends May 2025')])\n"
     ]
    }
   ],
   "execution_count": 5
  },
  {
   "cell_type": "markdown",
   "metadata": {},
   "source": [
    "## Our Third Agent: Writer Agent\n",
    "\n",
    "Take the results of internet searches and make a report"
   ]
  },
  {
   "cell_type": "code",
   "metadata": {
    "ExecuteTime": {
     "end_time": "2025-05-14T15:30:17.245050Z",
     "start_time": "2025-05-14T15:30:17.238795Z"
    }
   },
   "source": [
    "INSTRUCTIONS = (\n",
    "    \"You are a senior researcher tasked with writing a cohesive report for a research query. \"\n",
    "    \"You will be provided with the original query, and some initial research done by a research assistant.\\n\"\n",
    "    \"You should first come up with an outline for the report that describes the structure and \"\n",
    "    \"flow of the report. Then, generate the report and return that as your final output.\\n\"\n",
    "    \"The final output should be in markdown format, and it should be lengthy and detailed. Aim \"\n",
    "    \"for 5-10 pages of content, at least 1000 words.\"\n",
    ")\n",
    "\n",
    "\n",
    "class ReportData(BaseModel):\n",
    "    short_summary: str\n",
    "    \"\"\"A short 2-3 sentence summary of the findings.\"\"\"\n",
    "\n",
    "    markdown_report: str\n",
    "    \"\"\"The final report\"\"\"\n",
    "\n",
    "    follow_up_questions: list[str]\n",
    "    \"\"\"Suggested topics to research further\"\"\"\n",
    "\n",
    "\n",
    "writer_agent = Agent(\n",
    "    name=\"WriterAgent\",\n",
    "    instructions=INSTRUCTIONS,\n",
    "    model=\"gpt-4o-mini\",\n",
    "    output_type=ReportData,\n",
    ")"
   ],
   "outputs": [],
   "execution_count": 6
  },
  {
   "cell_type": "markdown",
   "metadata": {},
   "source": [
    "## Our Fourth Agent: push notification\n",
    "\n",
    "Just to show how easy it is to make a tool!\n",
    "\n",
    "I'm using a nifty product called PushOver - to set this up yourself, visit https://pushover.net"
   ]
  },
  {
   "cell_type": "code",
   "metadata": {
    "ExecuteTime": {
     "end_time": "2025-05-14T15:30:28.674936Z",
     "start_time": "2025-05-14T15:30:28.663263Z"
    }
   },
   "source": [
    "@function_tool\n",
    "def push(message: str):\n",
    "    \"\"\"Send a push notification with this brief message\"\"\"\n",
    "    payload = {\"user\": pushover_user, \"token\": pushover_token, \"message\": message}\n",
    "    requests.post(pushover_url, data=payload)\n",
    "    return {\"status\": \"success\"}"
   ],
   "outputs": [],
   "execution_count": 7
  },
  {
   "cell_type": "code",
   "metadata": {
    "ExecuteTime": {
     "end_time": "2025-05-14T15:30:41.373032Z",
     "start_time": "2025-05-14T15:30:41.364770Z"
    }
   },
   "source": [
    "push"
   ],
   "outputs": [
    {
     "data": {
      "text/plain": [
       "FunctionTool(name='push', description='Send a push notification with this brief message', params_json_schema={'properties': {'message': {'title': 'Message', 'type': 'string'}}, 'required': ['message'], 'title': 'push_args', 'type': 'object', 'additionalProperties': False}, on_invoke_tool=<function function_tool.<locals>._create_function_tool.<locals>._on_invoke_tool at 0x0000022F41856520>, strict_json_schema=True)"
      ]
     },
     "execution_count": 8,
     "metadata": {},
     "output_type": "execute_result"
    }
   ],
   "execution_count": 8
  },
  {
   "cell_type": "code",
   "metadata": {
    "ExecuteTime": {
     "end_time": "2025-05-14T15:31:55.769112Z",
     "start_time": "2025-05-14T15:31:55.760114Z"
    }
   },
   "source": [
    "INSTRUCTIONS = \"\"\"You are a member of a research team and will be provided with a short summary of a report.\n",
    "When you receive the report summary, you send a push notification to the user using your tool, informing them that research is complete,\n",
    "and including the report summary you receive\"\"\"\n",
    "\n",
    "\n",
    "push_agent = Agent(\n",
    "    name=\"Push agent\",\n",
    "    instructions=INSTRUCTIONS,\n",
    "    tools=[push],\n",
    "    model=\"gpt-4.1-mini\",\n",
    "    model_settings=ModelSettings(tool_choice=\"required\")\n",
    ")"
   ],
   "outputs": [],
   "execution_count": 9
  },
  {
   "cell_type": "markdown",
   "metadata": {},
   "source": [
    "### The next 3 functions will plan and execute the search, using planner_agent and search_agent"
   ]
  },
  {
   "cell_type": "code",
   "metadata": {
    "ExecuteTime": {
     "end_time": "2025-05-14T15:32:24.463822Z",
     "start_time": "2025-05-14T15:32:24.455968Z"
    }
   },
   "source": [
    "async def plan_searches(query: str):\n",
    "    \"\"\" Use the planner_agent to plan which searches to run for the query \"\"\"\n",
    "    print(\"Planning searches...\")\n",
    "    result = await Runner.run(planner_agent, f\"Query: {query}\")\n",
    "    print(f\"Will perform {len(result.final_output.searches)} searches\")\n",
    "    return result.final_output\n",
    "\n",
    "async def perform_searches(search_plan: WebSearchPlan):\n",
    "    \"\"\" Call search() for each item in the search plan \"\"\"\n",
    "    print(\"Searching...\")\n",
    "    tasks = [asyncio.create_task(search(item)) for item in search_plan.searches]\n",
    "    results = await asyncio.gather(*tasks)\n",
    "    print(\"Finished searching\")\n",
    "    return results\n",
    "\n",
    "async def search(item: WebSearchItem):\n",
    "    \"\"\" Use the search agent to run a web search for each item in the search plan \"\"\"\n",
    "    input = f\"Search term: {item.query}\\nReason for searching: {item.reason}\"\n",
    "    result = await Runner.run(search_agent, input)\n",
    "    return result.final_output"
   ],
   "outputs": [],
   "execution_count": 10
  },
  {
   "cell_type": "markdown",
   "metadata": {},
   "source": [
    "### The next 2 functions write a report and send a push notification"
   ]
  },
  {
   "cell_type": "code",
   "metadata": {
    "ExecuteTime": {
     "end_time": "2025-05-14T15:32:43.136453Z",
     "start_time": "2025-05-14T15:32:43.130873Z"
    }
   },
   "source": [
    "async def write_report(query: str, search_results: list[str]):\n",
    "    \"\"\" Use the writer agent to write a report based on the search results\"\"\"\n",
    "    print(\"Thinking about report...\")\n",
    "    input = f\"Original query: {query}\\nSummarized search results: {search_results}\"\n",
    "    result = await Runner.run(writer_agent, input)\n",
    "    print(\"Finished writing report\")\n",
    "    return result.final_output\n",
    "\n",
    "async def send_push(report: ReportData):\n",
    "    \"\"\" Use the push agent to send a notification to the user \"\"\"\n",
    "    print(\"Pushing...\")\n",
    "    result = await Runner.run(push_agent, report.short_summary)\n",
    "    print(\"Push sent\")\n",
    "    return report"
   ],
   "outputs": [],
   "execution_count": 11
  },
  {
   "cell_type": "markdown",
   "metadata": {},
   "source": [
    "### Showtime!"
   ]
  },
  {
   "cell_type": "code",
   "metadata": {
    "ExecuteTime": {
     "end_time": "2025-05-14T15:33:45.770749Z",
     "start_time": "2025-05-14T15:32:48.577141Z"
    }
   },
   "source": [
    "query =\"What are the most popular and successful AI Agent frameworks in May 2025\"\n",
    "\n",
    "with trace(\"Research trace\"):\n",
    "    print(\"Starting research...\")\n",
    "    search_plan = await plan_searches(query)\n",
    "    search_results = await perform_searches(search_plan)\n",
    "    report = await write_report(query, search_results)\n",
    "    await send_push(report)  \n",
    "    print(\"Hooray!\")\n",
    "display(Markdown(report.markdown_report))"
   ],
   "outputs": [
    {
     "name": "stdout",
     "output_type": "stream",
     "text": [
      "Starting research...\n",
      "Planning searches...\n",
      "Will perform 5 searches\n",
      "Searching...\n",
      "Finished searching\n",
      "Thinking about report...\n",
      "Finished writing report\n",
      "Pushing...\n",
      "Push sent\n",
      "Hooray!\n"
     ]
    },
    {
     "data": {
      "text/plain": [
       "<IPython.core.display.Markdown object>"
      ],
      "text/markdown": "# Popular and Successful AI Agent Frameworks as of May 2025\n\n## Table of Contents\n1. [Introduction](#introduction)\n2. [Overview of AI Agent Frameworks](#overview-of-ai-agent-frameworks)\n3. [Key AI Agent Frameworks](#key-ai-agent-frameworks)\n    - [LangChain](#langchain)\n    - [CrewAI](#crewai)\n    - [Agno](#agno)\n    - [LangGraph](#langgraph)\n    - [Microsoft Semantic Kernel](#microsoft-semantic-kernel)\n    - [Microsoft AutoGen](#microsoft-autogen)\n    - [OpenAI Agents SDK](#openai-agents-sdk)\n    - [LlamaIndex Agents](#llamaindex-agents)\n4. [Challenges in AI Agent Frameworks](#challenges-in-ai-agent-frameworks)\n5. [Trends Shaping AI Agent Frameworks](#trends-shaping-ai-agent-frameworks)\n6. [Conclusion](#conclusion)\n7. [References](#references)  \n\n## 1. Introduction\nThe landscape of Artificial Intelligence (AI) is ever-evolving, with a surge in the popularity and utility of AI agent frameworks. As of May 2025, frameworks such as LangChain, CrewAI, and Microsoft's Semantic Kernel have emerged as leading players in the development of autonomous systems. This report aims to explore the characteristics, strengths, and application suitability of these frameworks, as well as the challenges and evolving trends in AI agent frameworks.  \n\n## 2. Overview of AI Agent Frameworks  \nAI agent frameworks offer developers the ability to create intelligent agents capable of performing a diverse array of tasks, from simple automation to complex, multi-agent collaborations. Each framework is designed with unique features, addressing specific needs ranging from enhanced flexibility and ease of use to robust performance and integration capabilities.  \n\n## 3. Key AI Agent Frameworks  \nIn this section, we delve into some of the most notable AI agent frameworks that are shaping the field as of May 2025.  \n\n### LangChain  \nLangChain stands out as a versatile and modular framework designed for applications powered by large language models (LLMs). Its primary offerings include:  \n- **Workflow Creation**: LangChain facilitates managing complex workflows, allowing for smooth transitions between tasks.  \n- **Integration**: It can seamlessly connect with multiple LLMs and external APIs, enabling diverse applications such as conversational AI, automated research, and document analysis.  \n- **Extensive Community**: The framework has built up a large community and extensive documentation, making it suitable for both beginners and experienced developers.\n\nHowever, some users report that its high-level abstractions may introduce performance overhead, which can impact application speed in production environments.  \n\n### CrewAI  \nCrewAI focuses on orchestrating multi-agent collaborations, offering a role-based architecture that simplifies developing team-like systems:  \n- **Role-Based Agent Architecture**: This allows for specialized agents to work on distinct tasks, emulating human teamwork.  \n- **Task Coordination**: CrewAI features advanced task planning and inter-agent communication, making it suitable for collaborative AI systems.  \n- **Accessibility**: Its user-friendly design minimizes the learning curve for new users.\n\nDespite its best efforts, CrewAI has faced challenges regarding interpretability and scalability, which may limit its deployment in advanced applications.  \n\n### Agno  \nFormerly known as Phidata, Agno has emerged as a strong open-source competitor in the AI agent framework space:  \n- **Multimodal Support**: Agno focuses on building multimodal agents that can function across various environments.  \n- **Performance**: Developers appreciate its speed in agent instantiation and lower memory usage, ideal for resource-constrained applications.\n\n### LangGraph  \nBuilding on LangChain's capabilities, LangGraph introduces a graph-based architecture:\n- **Stateful Multi-Agent Systems**: LangGraph enables the management of multi-step tasks with real-time task coordination, essential for complex workflows.  \n- **Control Over Interactions**: Its explicit management of agent interactions allows for superior error handling and branching.  \n\nHowever, the framework has a steeper learning curve, which may pose challenges for newcomers.  \n\n### Microsoft Semantic Kernel  \nTailored for enterprise integration, the Semantic Kernel provides significant advantages:\n- **Cross-Language Support**: The framework supports multiple programming languages, making it versatile for large-scale applications.  \n- **Task Orchestration and Analytics**: Enterprises benefit from built-in analytics, ensuring compliance and security in their AI applications.\n\n### Microsoft AutoGen  \nAutoGen, another strong contender from Microsoft, facilitates the development of real-time, multi-agent systems:  \n- **Real-Time Capabilities**: Suitable for high-performance applications such as financial trading and IoT monitoring.  \n\n### OpenAI Agents SDK  \nOpenAI's SDK packages core functionalities, enabling reasoned decisions, API calls, and multi-agent orchestrations:  \n- **Streamlined Development**: It simplifies the agent development process, reducing complexity for developers.\n\n### LlamaIndex Agents  \nIntegrating retrieval-augmented generation (RAG) with indexing enhances data synergy.  \n- **Enhanced Retrieval**: This framework excels in scenarios involving extensive data retrieval and knowledge fusion, making it well-suited for research and analytics tasks.  \n\n## 4. Challenges in AI Agent Frameworks  \nDespite their advancements, various challenges persist within the AI agent framework landscape:  \n- **Data Quality**: High-quality data is essential for training effective agents, and obtaining such data can often be difficult.  \n- **Computing Constraints**: Performance optimizations may be required to operate within resource-limited settings.  \n- **Ethical Concerns**: The implementation of AI raises ethical questions regarding fairness, privacy, and bias, necessitating robust governance frameworks.\n- **Scalability**: Many frameworks face challenges in scaling to meet growing application demands, particularly in multi-agent contexts.\n\n## 5. Trends Shaping AI Agent Frameworks  \nSeveral trends are currently influencing the development and functionality of AI agent frameworks:\n- **Autonomous Agents**: Increased capabilities for agents to perform complex tasks autonomously, emphasizing the rise of intelligent autonomy.  \n- **Open Source Models**: The emergence of high-performance open-source models is disrupting traditional proprietary offerings, promoting inclusivity in development.  \n- **Multimodal Interaction**: Frameworks integrating multiple media types (text, audio, video) create more versatile agents.  \n- **Decentralization**: The shift toward decentralized models running locally enhances performance and privacy.  \n- **Ethical AI**: An increase in frameworks focused on ensuring fairness and transparency reflects the growing importance of ethical considerations in AI development.\n- **Unified AI Ecosystems**: Platforms that facilitate interaction among multiple agents are on the rise, streamlining processes and innovation.\n\n## 6. Conclusion  \nAI agent frameworks have gained considerable traction in 2025, with innovative solutions like LangChain, CrewAI, and Microsoft Semantic Kernel leading the way. Each framework has its strengths, weaknesses, and particular use cases, contributing to the broader evolution of AI technology. As challenges persist and trends emerge, developers and organizations must carefully analyze their choices to maximize the benefits of AI agents in their operations.  \n\n## 7. References  \n- [Vestra.ai](https://vestra.ai/blogs/top-8-ai-agent-frameworks-to-watch-in-2025?utm_source=openai)\n- [Analytics Vidhya](https://www.analyticsvidhya.com/blog/2024/07/ai-agent-frameworks/?utm_source=openai)\n- [Medium.com](https://medium.com/%40mohitcharan04/comprehensive-comparison-of-ai-agent-frameworks-bec7d25df8a6?utm_source=openai)\n- [Curotec.com](https://www.curotec.com/insights/top-ai-agent-frameworks/?utm_source=openai)\n- [AADITECH](https://aaditech.com/2025/01/08/ai-agent-frameworks-for-2025/?utm_source=openai)\n- [AragonResearch.com](https://aragonresearch.com/globe-for-ai-agent-platforms-2025/?utm_source=openai)\n- [Wordware.ai](https://www.wordware.ai/blog/best-ai-agent-frameworks-for-developing-autonomous-systems?utm_source=openai)\n- [Turing.com](https://www.turing.com/resources/ai-agent-frameworks?utm_source=openai)  \n\n---  \n\nThis markdown report is structured to give a comprehensive insight into the state of AI agent frameworks in May 2025, detailing their functionalities, market presence, and the evolving landscape around them."
     },
     "metadata": {},
     "output_type": "display_data"
    }
   ],
   "execution_count": 12
  },
  {
   "cell_type": "markdown",
   "metadata": {},
   "source": [
    "### As always, take a look at the trace\n",
    "\n",
    "https://platform.openai.com/traces"
   ]
  }
 ],
 "metadata": {
  "kernelspec": {
   "display_name": ".venv",
   "language": "python",
   "name": "python3"
  },
  "language_info": {
   "codemirror_mode": {
    "name": "ipython",
    "version": 3
   },
   "file_extension": ".py",
   "mimetype": "text/x-python",
   "name": "python",
   "nbconvert_exporter": "python",
   "pygments_lexer": "ipython3",
   "version": "3.12.9"
  }
 },
 "nbformat": 4,
 "nbformat_minor": 2
}
